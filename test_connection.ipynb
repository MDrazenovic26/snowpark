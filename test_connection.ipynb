{
 "cells": [
  {
   "cell_type": "code",
   "execution_count": 1,
   "metadata": {},
   "outputs": [
    {
     "name": "stdout",
     "output_type": "stream",
     "text": [
      "{'account': 'nf27503.eu-central-1', 'user': 'valdraz', 'password': 'Drazval93'}\n"
     ]
    }
   ],
   "source": [
    "import sys, json\n",
    "\n",
    "with open(\"connection_parameters_true.json\") as jsonfile:\n",
    "    credentials_dict = json.load(jsonfile)\n",
    "\n",
    "print(credentials_dict)"
   ]
  }
 ],
 "metadata": {
  "kernelspec": {
   "display_name": "Python 3",
   "language": "python",
   "name": "python3"
  },
  "language_info": {
   "codemirror_mode": {
    "name": "ipython",
    "version": 3
   },
   "file_extension": ".py",
   "mimetype": "text/x-python",
   "name": "python",
   "nbconvert_exporter": "python",
   "pygments_lexer": "ipython3",
   "version": "3.8.10"
  },
  "orig_nbformat": 4
 },
 "nbformat": 4,
 "nbformat_minor": 2
}
