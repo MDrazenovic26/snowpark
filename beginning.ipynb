{
 "cells": [
  {
   "cell_type": "code",
   "execution_count": 23,
   "metadata": {},
   "outputs": [],
   "source": [
    "from configparser import *"
   ]
  },
  {
   "cell_type": "code",
   "execution_count": 24,
   "metadata": {},
   "outputs": [],
   "source": [
    "from snowflake.snowpark import Session\n",
    "import snowflake.snowpark.functions as F\n",
    "from datetime import date"
   ]
  },
  {
   "cell_type": "code",
   "execution_count": 25,
   "metadata": {},
   "outputs": [],
   "source": [
    "import sys, json\n",
    "with open(\"connection_parameters_true.json\") as jsonfile:\n",
    "    credentials_dict = json.load(jsonfile)"
   ]
  },
  {
   "cell_type": "code",
   "execution_count": 26,
   "metadata": {},
   "outputs": [],
   "source": [
    "def snowpark_session_create():\n",
    "    session = Session.builder.configs(credentials_dict).create()\n",
    "    return session"
   ]
  },
  {
   "cell_type": "code",
   "execution_count": 27,
   "metadata": {},
   "outputs": [],
   "source": [
    "demo_session = snowpark_session_create()"
   ]
  },
  {
   "cell_type": "code",
   "execution_count": 28,
   "metadata": {},
   "outputs": [],
   "source": [
    "df = demo_session.sql('select * from snowflake_sample_data.tpcds_sf10tcl.item limit 1000')"
   ]
  },
  {
   "cell_type": "code",
   "execution_count": 29,
   "metadata": {},
   "outputs": [],
   "source": [
    "#df.show()"
   ]
  },
  {
   "cell_type": "code",
   "execution_count": 30,
   "metadata": {},
   "outputs": [],
   "source": [
    "#for row in df.collect():\n",
    "#    print(row.I_ITEM_ID)"
   ]
  },
  {
   "cell_type": "code",
   "execution_count": 31,
   "metadata": {},
   "outputs": [],
   "source": [
    "demo_session.use_database(\"snowflake_sample_data\")\n",
    "demo_session.use_schema(\"tpcds_sf10tcl\")"
   ]
  },
  {
   "cell_type": "code",
   "execution_count": 32,
   "metadata": {},
   "outputs": [],
   "source": [
    "df = demo_session.table(\"item\")\n",
    "\n",
    "df = df.select(\n",
    "    \"I_ITEM_ID\",\n",
    "    \"I_REC_START_DATE\",\n",
    "    \"I_REC_END_DATE\",\n",
    "    \"I_ITEM_DESC\",\n",
    "    \"I_CURRENT_PRICE\",\n",
    "    \"I_WHOLESALE_COST\",\n",
    "    \"I_CATEGORY\",\n",
    "    \"I_BRAND\",  \n",
    ").filter((F.col(\"I_REC_START_DATE\").between(date(1999,1,1),date(2010,12,31)))&(F.col(\"I_REC_START_DATE\").is_not_null())&(F.col(\"I_REC_END_DATE\").is_not_null()))"
   ]
  },
  {
   "cell_type": "code",
   "execution_count": 33,
   "metadata": {},
   "outputs": [
    {
     "name": "stdout",
     "output_type": "stream",
     "text": [
      "------------------------------------------------------------------------------------------------------------------------------------------------------------------------------------------------\n",
      "|\"I_ITEM_ID\"       |\"I_REC_START_DATE\"  |\"I_REC_END_DATE\"  |\"I_ITEM_DESC\"                                       |\"I_CURRENT_PRICE\"  |\"I_WHOLESALE_COST\"  |\"I_CATEGORY\"  |\"I_BRAND\"             |\n",
      "------------------------------------------------------------------------------------------------------------------------------------------------------------------------------------------------\n",
      "|AAAAAAAAOBEPDAAA  |1999-10-28          |2001-10-26        |As only schemes must smoke away for a women. St...  |2.63               |2.34                |Jewelry       |univbrand #8          |\n",
      "|AAAAAAAAECEPDAAA  |1999-10-28          |2001-10-26        |Thoroughly written boxes favour by a provisions...  |2.80               |4.92                |Women         |edu packamalg #2      |\n",
      "|AAAAAAAAKCEPDAAA  |1999-10-28          |2001-10-26        |Groups suit low, probable limits. As it were ot...  |9.26               |7.96                |Children      |amalgexporti #2       |\n",
      "|AAAAAAAAGDEPDAAA  |1999-10-28          |2001-10-26        |Also critical places recall then guilty process...  |6.33               |2.34                |Jewelry       |importocorp #8        |\n",
      "|AAAAAAAAMDEPDAAA  |1999-10-28          |2001-10-26        |Labour windows would not make upon a applicatio...  |2.76               |1.32                |Books         |scholarmaxi #6        |\n",
      "|AAAAAAAACEEPDAAA  |1999-10-28          |2001-10-26        |Resources believe old, ideal plans. Numbers wil...  |0.95               |0.75                |Sports        |edu packnameless #10  |\n",
      "|AAAAAAAAIEEPDAAA  |1999-10-28          |2001-10-26        |Dull experiences must go thoroughly always main...  |0.21               |1.20                |Home          |importonameless #6    |\n",
      "|AAAAAAAAOEEPDAAA  |1999-10-28          |2001-10-26        |Also good periods could come external, old s        |4.82               |3.13                |Children      |exportiexporti #2     |\n",
      "|AAAAAAAAEFEPDAAA  |1999-10-28          |2001-10-26        |Local, reasonable costs can prove; previous sym...  |1.04               |28.11               |Shoes         |exportiedu pack #2    |\n",
      "|AAAAAAAAKFEPDAAA  |1999-10-28          |2001-10-26        |Police use kindly in a forces. Enough greek fig...  |9.92               |2.30                |Women         |amalgamalg #2         |\n",
      "------------------------------------------------------------------------------------------------------------------------------------------------------------------------------------------------\n",
      "\n"
     ]
    }
   ],
   "source": [
    "df.show()"
   ]
  },
  {
   "cell_type": "code",
   "execution_count": 34,
   "metadata": {},
   "outputs": [],
   "source": [
    "df = df.with_column(\"Margin\",(F.col(\"I_WHOLESALE_COST\") - (F.col(\"I_CURRENT_PRICE\"))))"
   ]
  },
  {
   "cell_type": "code",
   "execution_count": 35,
   "metadata": {},
   "outputs": [
    {
     "name": "stdout",
     "output_type": "stream",
     "text": [
      "--------------------------------------------------------------------------------------------------------------------------------------------------------------------------------------------------------\n",
      "|\"I_ITEM_ID\"       |\"I_REC_START_DATE\"  |\"I_REC_END_DATE\"  |\"I_ITEM_DESC\"                                       |\"I_CURRENT_PRICE\"  |\"I_WHOLESALE_COST\"  |\"I_CATEGORY\"  |\"I_BRAND\"          |\"MARGIN\"  |\n",
      "--------------------------------------------------------------------------------------------------------------------------------------------------------------------------------------------------------\n",
      "|AAAAAAAAICMFBAAA  |1999-10-28          |2001-10-26        |Then strong rates may ask ago local principles....  |3.09               |87.82               |Music         |amalgscholar #2    |84.73     |\n",
      "|AAAAAAAAEDMBFAAA  |1999-10-28          |2001-10-26        |Relations choke so noble, academic sons. Other ...  |1.22               |85.44               |Home          |univnameless #2    |84.22     |\n",
      "|AAAAAAAAMIPIAAAA  |1999-10-28          |2001-10-26        |Excellent, superior goods may not keep now. Add...  |2.52               |86.69               |Children      |importoexporti #2  |84.17     |\n",
      "|AAAAAAAAMABJDAAA  |1999-10-28          |2001-10-26        |Regular servants shall sit old representatives;...  |4.15               |86.64               |Jewelry       |corpbrand #6       |82.49     |\n",
      "|AAAAAAAAOPJEEAAA  |1999-10-28          |2001-10-26        |Welcome, contemporary results eat more; complet...  |1.85               |83.73               |Men           |importoimporto #2  |81.88     |\n",
      "|AAAAAAAAGJHLEAAA  |1999-10-28          |2001-10-26        |Hours used to recognize most young, accused mat...  |3.13               |84.92               |Sports        |corpmaxi #4        |81.79     |\n",
      "|AAAAAAAAEOEAGAAA  |1999-10-28          |2001-10-26        |Birds deal there. Particularly tr                   |0.16               |81.92               |Books         |edu packmaxi #6    |81.76     |\n",
      "|AAAAAAAAOPCGDAAA  |1999-10-28          |2001-10-26        |Difficult supporters might not submit neither s...  |3.77               |85.41               |Books         |univunivamalg #12  |81.64     |\n",
      "|AAAAAAAAOBGKAAAA  |1999-10-28          |2001-10-26        |Glad members come still senior pressures. S         |2.42               |83.74               |Men           |exportiimporto #2  |81.32     |\n",
      "|AAAAAAAAGMNMDAAA  |1999-10-28          |2001-10-26        |Personal prisons would not turn t                   |0.40               |81.68               |Women         |importoamalg #2    |81.28     |\n",
      "--------------------------------------------------------------------------------------------------------------------------------------------------------------------------------------------------------\n",
      "\n"
     ]
    }
   ],
   "source": [
    "df.sort(F.col(\"Margin\").desc()).show()"
   ]
  },
  {
   "cell_type": "code",
   "execution_count": 36,
   "metadata": {},
   "outputs": [],
   "source": [
    "total1999 = df.group_by(\"I_CATEGORY\").agg(F.sum(\"Margin\").alias(\"Margin_1999\"))"
   ]
  },
  {
   "cell_type": "code",
   "execution_count": 37,
   "metadata": {},
   "outputs": [
    {
     "name": "stdout",
     "output_type": "stream",
     "text": [
      "--------------------------------\n",
      "|\"I_CATEGORY\"  |\"MARGIN_1999\"  |\n",
      "--------------------------------\n",
      "|Home          |-24468.85      |\n",
      "|Electronics   |-23135.00      |\n",
      "|Sports        |-23916.55      |\n",
      "|Children      |-22216.48      |\n",
      "|Women         |-21974.54      |\n",
      "|Jewelry       |-24591.25      |\n",
      "|Music         |-24850.03      |\n",
      "|Shoes         |-24385.82      |\n",
      "|NULL          |-149.31        |\n",
      "|Books         |-23189.11      |\n",
      "--------------------------------\n",
      "\n"
     ]
    }
   ],
   "source": [
    "total1999.show()"
   ]
  },
  {
   "cell_type": "code",
   "execution_count": 38,
   "metadata": {},
   "outputs": [],
   "source": [
    "df2 = demo_session.table(\"item\")\n",
    "\n",
    "df2 = df.select(\n",
    "    \"I_ITEM_ID\",\n",
    "    \"I_REC_START_DATE\",\n",
    "    \"I_REC_END_DATE\",\n",
    "    \"I_ITEM_DESC\",\n",
    "    \"I_CURRENT_PRICE\",\n",
    "    \"I_WHOLESALE_COST\",\n",
    "    \"I_CATEGORY\",\n",
    "    \"I_BRAND\",  \n",
    ").filter((F.col(\"I_REC_START_DATE\").between(date(2000,1,1),date(2001,12,31))))\n",
    "\n",
    "df2 = df2.with_column(\"Margin\",(F.col(\"I_WHOLESALE_COST\") - (F.col(\"I_CURRENT_PRICE\"))))\n",
    "\n",
    "total2001 = df.group_by(\"I_CATEGORY\").agg(F.sum(\"Margin\").alias(\"Margin_2001\"))"
   ]
  },
  {
   "cell_type": "code",
   "execution_count": 39,
   "metadata": {},
   "outputs": [],
   "source": [
    "total1999 = total1999.with_column_renamed(F.col(\"Margin_1999\"),\"Margin_1999\")"
   ]
  },
  {
   "cell_type": "code",
   "execution_count": 40,
   "metadata": {},
   "outputs": [],
   "source": [
    "joinnedDFs = total1999.join(total2001, total1999.I_CATEGORY == total2001.I_CATEGORY).select(\n",
    "    total1999.col(\"I_CATEGORY\").alias(\"I_CATEGORY\"),\n",
    "    total1999.col(\"Margin_1999\").alias(\"Margin_1999\"),\n",
    "    total2001.col(\"Margin_2001\").alias(\"Margin_2001\"),\n",
    ")"
   ]
  },
  {
   "cell_type": "code",
   "execution_count": 41,
   "metadata": {},
   "outputs": [],
   "source": [
    "joinnedDFs = (\n",
    "    joinnedDFs.with_column(\n",
    "        \"Totals\",\n",
    "        F.array_construct(F.col(\"Margin_1999\"),F.col(\"Margin_2001\"))\n",
    "    )\n",
    "    .with_column(\n",
    "        \"Comment\",\n",
    "        F.concat(F.lit(\"Logic was created by \"), F.current_user())\n",
    "    )\n",
    "    .with_column(\n",
    "        \"TRUST_LEVEL\",\n",
    "        F.when(F.col(\"I_CATEGORY\") == \"Sports\", 0.4)\n",
    "        .otherwise(1)\n",
    "    )\n",
    ")"
   ]
  },
  {
   "cell_type": "code",
   "execution_count": 42,
   "metadata": {},
   "outputs": [
    {
     "name": "stdout",
     "output_type": "stream",
     "text": [
      "------------------------------------------------------------------------------\n",
      "|\"I_CATEGORY\"  |\"TOTALS\"      |\"COMMENT\"                     |\"TRUST_LEVEL\"  |\n",
      "------------------------------------------------------------------------------\n",
      "|Sports        |[             |Logic was created by VALDRAZ  |0.4            |\n",
      "|              |  -23916.55,  |                              |               |\n",
      "|              |  -23916.55   |                              |               |\n",
      "|              |]             |                              |               |\n",
      "|Children      |[             |Logic was created by VALDRAZ  |1.0            |\n",
      "|              |  -22216.48,  |                              |               |\n",
      "|              |  -22216.48   |                              |               |\n",
      "|              |]             |                              |               |\n",
      "|Women         |[             |Logic was created by VALDRAZ  |1.0            |\n",
      "|              |  -21974.54,  |                              |               |\n",
      "|              |  -21974.54   |                              |               |\n",
      "|              |]             |                              |               |\n",
      "|Jewelry       |[             |Logic was created by VALDRAZ  |1.0            |\n",
      "|              |  -24591.25,  |                              |               |\n",
      "|              |  -24591.25   |                              |               |\n",
      "|              |]             |                              |               |\n",
      "|Home          |[             |Logic was created by VALDRAZ  |1.0            |\n",
      "|              |  -24468.85,  |                              |               |\n",
      "|              |  -24468.85   |                              |               |\n",
      "|              |]             |                              |               |\n",
      "|Electronics   |[             |Logic was created by VALDRAZ  |1.0            |\n",
      "|              |  -23135,     |                              |               |\n",
      "|              |  -23135      |                              |               |\n",
      "|              |]             |                              |               |\n",
      "|Shoes         |[             |Logic was created by VALDRAZ  |1.0            |\n",
      "|              |  -24385.82,  |                              |               |\n",
      "|              |  -24385.82   |                              |               |\n",
      "|              |]             |                              |               |\n",
      "|Music         |[             |Logic was created by VALDRAZ  |1.0            |\n",
      "|              |  -24850.03,  |                              |               |\n",
      "|              |  -24850.03   |                              |               |\n",
      "|              |]             |                              |               |\n",
      "|Men           |[             |Logic was created by VALDRAZ  |1.0            |\n",
      "|              |  -23647.19,  |                              |               |\n",
      "|              |  -23647.19   |                              |               |\n",
      "|              |]             |                              |               |\n",
      "|Books         |[             |Logic was created by VALDRAZ  |1.0            |\n",
      "|              |  -23189.11,  |                              |               |\n",
      "|              |  -23189.11   |                              |               |\n",
      "|              |]             |                              |               |\n",
      "------------------------------------------------------------------------------\n",
      "\n"
     ]
    }
   ],
   "source": [
    "joinnedDFs = joinnedDFs.drop(F.col(\"Margin_1999\")).drop(F.col(\"Margin_2001\")).show()"
   ]
  },
  {
   "cell_type": "code",
   "execution_count": 44,
   "metadata": {},
   "outputs": [],
   "source": [
    "demo_session.close()"
   ]
  }
 ],
 "metadata": {
  "kernelspec": {
   "display_name": "Python 3",
   "language": "python",
   "name": "python3"
  },
  "language_info": {
   "codemirror_mode": {
    "name": "ipython",
    "version": 3
   },
   "file_extension": ".py",
   "mimetype": "text/x-python",
   "name": "python",
   "nbconvert_exporter": "python",
   "pygments_lexer": "ipython3",
   "version": "3.8.10"
  },
  "orig_nbformat": 4
 },
 "nbformat": 4,
 "nbformat_minor": 2
}
