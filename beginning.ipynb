{
 "cells": [
  {
   "cell_type": "code",
   "execution_count": 94,
   "metadata": {},
   "outputs": [],
   "source": [
    "from configparser import *"
   ]
  },
  {
   "cell_type": "code",
   "execution_count": 95,
   "metadata": {},
   "outputs": [],
   "source": [
    "from snowflake.snowpark import Session\n",
    "import snowflake.snowpark.functions as F\n",
    "from datetime import date"
   ]
  },
  {
   "cell_type": "code",
   "execution_count": 96,
   "metadata": {},
   "outputs": [],
   "source": [
    "import sys, json\n",
    "with open(\"connection_parameters_true.json\") as jsonfile:\n",
    "    credentials_dict = json.load(jsonfile)"
   ]
  },
  {
   "cell_type": "code",
   "execution_count": 97,
   "metadata": {},
   "outputs": [],
   "source": [
    "def snowpark_session_create():\n",
    "    session = Session.builder.configs(credentials_dict).create()\n",
    "    return session"
   ]
  },
  {
   "cell_type": "code",
   "execution_count": 98,
   "metadata": {},
   "outputs": [],
   "source": [
    "demo_session = snowpark_session_create()"
   ]
  },
  {
   "cell_type": "code",
   "execution_count": 99,
   "metadata": {},
   "outputs": [],
   "source": [
    "df = demo_session.sql('select * from snowflake_sample_data.tpcds_sf10tcl.item limit 1000')"
   ]
  },
  {
   "cell_type": "code",
   "execution_count": 100,
   "metadata": {},
   "outputs": [],
   "source": [
    "#df.show()"
   ]
  },
  {
   "cell_type": "code",
   "execution_count": 101,
   "metadata": {},
   "outputs": [],
   "source": [
    "#for row in df.collect():\n",
    "#    print(row.I_ITEM_ID)"
   ]
  },
  {
   "cell_type": "code",
   "execution_count": 102,
   "metadata": {},
   "outputs": [],
   "source": [
    "demo_session.use_database(\"snowflake_sample_data\")\n",
    "demo_session.use_schema(\"tpcds_sf10tcl\")"
   ]
  },
  {
   "cell_type": "code",
   "execution_count": 103,
   "metadata": {},
   "outputs": [],
   "source": [
    "df = demo_session.table(\"item\")\n",
    "\n",
    "df = df.select(\n",
    "    \"I_ITEM_ID\",\n",
    "    \"I_REC_START_DATE\",\n",
    "    \"I_REC_END_DATE\",\n",
    "    \"I_ITEM_DESC\",\n",
    "    \"I_CURRENT_PRICE\",\n",
    "    \"I_WHOLESALE_COST\",\n",
    "    \"I_CATEGORY\",\n",
    "    \"I_BRAND\",  \n",
    ").filter((F.col(\"I_REC_START_DATE\").between(date(1999,1,1),date(2010,12,31)))&(F.col(\"I_REC_START_DATE\").is_not_null())&(F.col(\"I_REC_END_DATE\").is_not_null()))"
   ]
  },
  {
   "cell_type": "code",
   "execution_count": null,
   "metadata": {},
   "outputs": [],
   "source": [
    "df.show()"
   ]
  },
  {
   "cell_type": "code",
   "execution_count": 105,
   "metadata": {},
   "outputs": [],
   "source": [
    "df = df.with_column(\"Margin\",(F.col(\"I_WHOLESALE_COST\") - (F.col(\"I_CURRENT_PRICE\"))))"
   ]
  },
  {
   "cell_type": "code",
   "execution_count": null,
   "metadata": {},
   "outputs": [],
   "source": [
    "df.sort(F.col(\"Margin\").desc()).show()"
   ]
  },
  {
   "cell_type": "code",
   "execution_count": 107,
   "metadata": {},
   "outputs": [],
   "source": [
    "total1999 = df.group_by(\"I_CATEGORY\").agg(F.sum(\"Margin\").alias(\"Margin_1999\"))"
   ]
  },
  {
   "cell_type": "code",
   "execution_count": null,
   "metadata": {},
   "outputs": [],
   "source": [
    "total1999.show()"
   ]
  },
  {
   "cell_type": "code",
   "execution_count": 109,
   "metadata": {},
   "outputs": [],
   "source": [
    "df2 = demo_session.table(\"item\")\n",
    "\n",
    "df2 = df.select(\n",
    "    \"I_ITEM_ID\",\n",
    "    \"I_REC_START_DATE\",\n",
    "    \"I_REC_END_DATE\",\n",
    "    \"I_ITEM_DESC\",\n",
    "    \"I_CURRENT_PRICE\",\n",
    "    \"I_WHOLESALE_COST\",\n",
    "    \"I_CATEGORY\",\n",
    "    \"I_BRAND\",  \n",
    ").filter((F.col(\"I_REC_START_DATE\").between(date(2000,1,1),date(2001,12,31))))\n",
    "\n",
    "df2 = df2.with_column(\"Margin\",(F.col(\"I_WHOLESALE_COST\") - (F.col(\"I_CURRENT_PRICE\"))))\n",
    "\n",
    "total2001 = df.group_by(\"I_CATEGORY\").agg(F.sum(\"Margin\").alias(\"Margin_2001\"))"
   ]
  },
  {
   "cell_type": "code",
   "execution_count": 110,
   "metadata": {},
   "outputs": [],
   "source": [
    "total1999 = total1999.with_column_renamed(F.col(\"Margin_1999\"),\"Margin_1999\")"
   ]
  },
  {
   "cell_type": "code",
   "execution_count": 111,
   "metadata": {},
   "outputs": [],
   "source": [
    "joinnedDFs = total1999.join(total2001, total1999.I_CATEGORY == total2001.I_CATEGORY).select(\n",
    "    total1999.col(\"I_CATEGORY\").alias(\"I_CATEGORY\"),\n",
    "    total1999.col(\"Margin_1999\").alias(\"Margin_1999\"),\n",
    "    total2001.col(\"Margin_2001\").alias(\"Margin_2001\"),\n",
    ")"
   ]
  },
  {
   "cell_type": "code",
   "execution_count": 112,
   "metadata": {},
   "outputs": [],
   "source": [
    "joinnedDFs = (\n",
    "    joinnedDFs.with_column(\n",
    "        \"Totals\",\n",
    "        F.array_construct(F.col(\"Margin_1999\"),F.col(\"Margin_2001\"))\n",
    "    )\n",
    "    .with_column(\n",
    "        \"Comment\",\n",
    "        F.concat(F.lit(\"Logic was created by \"), F.current_user())\n",
    "    )\n",
    "    .with_column(\n",
    "        \"TRUST_LEVEL\",\n",
    "        F.when(F.col(\"I_CATEGORY\") == \"Sports\", 0.4)\n",
    "        .otherwise(1)\n",
    "    )\n",
    ")"
   ]
  },
  {
   "cell_type": "code",
   "execution_count": 114,
   "metadata": {},
   "outputs": [],
   "source": [
    "joinnedDFs = joinnedDFs.drop(F.col(\"Margin_1999\")).drop(F.col(\"Margin_2001\"))"
   ]
  },
  {
   "cell_type": "code",
   "execution_count": 115,
   "metadata": {},
   "outputs": [],
   "source": [
    "demo_session.close()"
   ]
  }
 ],
 "metadata": {
  "kernelspec": {
   "display_name": "Python 3",
   "language": "python",
   "name": "python3"
  },
  "language_info": {
   "codemirror_mode": {
    "name": "ipython",
    "version": 3
   },
   "file_extension": ".py",
   "mimetype": "text/x-python",
   "name": "python",
   "nbconvert_exporter": "python",
   "pygments_lexer": "ipython3",
   "version": "3.8.10"
  },
  "orig_nbformat": 4
 },
 "nbformat": 4,
 "nbformat_minor": 2
}
