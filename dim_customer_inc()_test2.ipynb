{
 "cells": [
  {
   "cell_type": "code",
   "execution_count": 18,
   "metadata": {},
   "outputs": [],
   "source": [
    "# Import login values from config\n",
    "from configparser import *"
   ]
  },
  {
   "cell_type": "code",
   "execution_count": 19,
   "metadata": {},
   "outputs": [],
   "source": [
    "# Import packages needed\n",
    "from snowflake.snowpark import Session\n",
    "from snowflake.snowpark.functions import *\n",
    "from snowflake.snowpark.types import *\n",
    "from snowflake.snowpark import Window\n",
    "import pandas as pd\n",
    "from urllib import request\n",
    "from bs4 import BeautifulSoup\n",
    "from urllib.request import urlopen\n",
    "import re\n",
    "import numpy as np"
   ]
  },
  {
   "cell_type": "code",
   "execution_count": 20,
   "metadata": {},
   "outputs": [],
   "source": [
    "#we save credentials in a credentials_dict dictionary\n",
    "import sys, json\n",
    "with open(\"connection_parameters_prod.json\") as jsonfile:\n",
    "    credentials_dict = json.load(jsonfile)"
   ]
  },
  {
   "cell_type": "code",
   "execution_count": 21,
   "metadata": {},
   "outputs": [],
   "source": [
    "#we connect to snowflake using credentials_dict and declare a session\n",
    "def snowpark_session_create():\n",
    "    session = Session.builder.configs(credentials_dict).create()\n",
    "    return session"
   ]
  },
  {
   "cell_type": "code",
   "execution_count": 22,
   "metadata": {},
   "outputs": [],
   "source": [
    "#we create a session\n",
    "session = snowpark_session_create()"
   ]
  },
  {
   "cell_type": "code",
   "execution_count": 23,
   "metadata": {},
   "outputs": [],
   "source": [
    "#we declare what db and what schema we will be using, we can change this within sql\n",
    "session.use_database(\"SNF_MDRAZ\")\n",
    "session.use_schema(\"bronze\")"
   ]
  },
  {
   "cell_type": "code",
   "execution_count": 66,
   "metadata": {},
   "outputs": [
    {
     "data": {
      "text/plain": [
       "[Row(status='Table KNA1 successfully created.')]"
      ]
     },
     "execution_count": 66,
     "metadata": {},
     "output_type": "execute_result"
    }
   ],
   "source": [
    "#we are defining an sql query which will be used to create a bronze table where data will come from staging\n",
    "#IF NOT EXISTS\n",
    "session.sql(\"\"\"\n",
    "    create or replace TABLE SNF_MDRAZ.BRONZE.KNA1 (\n",
    "\tINDEX VARCHAR(16777216),\n",
    "\tKUNNR VARCHAR(16777216),\n",
    "\tGENDE VARCHAR(16777216),\n",
    "\tNAME1 VARCHAR(16777216),\n",
    "\tNAME2 VARCHAR(16777216),\n",
    "\tSTRAS VARCHAR(16777216),\n",
    "\tORT01 VARCHAR(16777216),\n",
    "\tPSTLZ VARCHAR(16777216),\n",
    "\tLAND1 VARCHAR(16777216),\n",
    "\tLAND2 VARCHAR(16777216),\n",
    "\tRSCON VARCHAR(16777216),\n",
    "\tTELF1 VARCHAR(16777216),\n",
    "\tREGIO VARCHAR(16777216),\n",
    "\tBIRTH DATE,\n",
    "\tLATI VARCHAR(16777216),\n",
    "\tLONG VARCHAR(16777216),\n",
    "\tLASTMODIFIED DATE\n",
    ");\n",
    "\"\"\"\n",
    ").collect()                        "
   ]
  },
  {
   "cell_type": "code",
   "execution_count": 13,
   "metadata": {},
   "outputs": [
    {
     "data": {
      "text/plain": [
       "[Row(status='KNA1 already exists, statement succeeded.')]"
      ]
     },
     "execution_count": 13,
     "metadata": {},
     "output_type": "execute_result"
    }
   ],
   "source": [
    "#we execute sql query for bronze creation and use collect() to force execution\n",
    "#session.sql(create_or_replace_table).collect()"
   ]
  },
  {
   "cell_type": "code",
   "execution_count": 133,
   "metadata": {},
   "outputs": [],
   "source": [
    "#we are selecting data from staging table kna1\n",
    "source_table = \"\"\"select\n",
    "    index,\n",
    "    kunnr,\n",
    "    gende,\n",
    "    name1,\n",
    "    name2,\n",
    "    stras,\n",
    "    ort01,\n",
    "    pstlz,\n",
    "    land1,\n",
    "    land2,\n",
    "    rscon,\n",
    "    telf1,\n",
    "    regio,\n",
    "    to_date(birth,'YYYY/MM/DD') birth,\n",
    "    lati,\n",
    "    long,\n",
    "    current_date() as LASTMODIFIED from staging.kna1;\"\"\"\n",
    "df_source = session.sql(source_table).to_pandas()"
   ]
  },
  {
   "cell_type": "code",
   "execution_count": 134,
   "metadata": {},
   "outputs": [],
   "source": [
    "#we are listing what values we want to use to replace NaNs and Nulls\n",
    "values = {\n",
    "    'INDEX': -99,\n",
    "    'KUNNR': 'NA',\n",
    "    'GENDE': 'NA', \n",
    "    'NAME1': 'NA', \n",
    "    'NAME2': 'NA', \n",
    "    'STRAS': 'NA', \n",
    "    'ORT01': 'NA', \n",
    "    'PSTLZ': 'NA', \n",
    "    'LAND1': 'NA', \n",
    "    'LAND2': 'NA', \n",
    "    'RSCON': 'NA', \n",
    "    'TELF1': 'NA', \n",
    "    'REGIO': -99, \n",
    "    'BIRTH': '1900/01/01', \n",
    "    'LATI': 0, \n",
    "    'LONG': 0, \n",
    "    'LASTMODIFIED' : '1900/01/01'\n",
    "}\n",
    "df_source.fillna(value=values,inplace=True)"
   ]
  },
  {
   "cell_type": "code",
   "execution_count": 135,
   "metadata": {},
   "outputs": [],
   "source": [
    "#since couple of columns have wrong types, here we are changing these types to what we need\n",
    "#also couple of data has ' in them, we are replacing them with '' to avoid accidental break in string\n",
    "df_source['INDEX'] = df_source['INDEX'].astype('int64')\n",
    "df_source['REGIO'] = df_source['REGIO'].astype('str')\n",
    "df_source['GENDE'] = df_source['GENDE'].astype('str')\n",
    "df_source['BIRTH'] = pd.to_datetime(df_source['BIRTH'],format='ISO8601').dt.strftime('%Y-%m-%d')\n",
    "df_source['ORT01'] = df_source['ORT01'].replace(\"'\",\"''\")\n",
    "df_source = df_source.applymap(lambda x: x.strip() if isinstance(x, str) else x)"
   ]
  },
  {
   "cell_type": "code",
   "execution_count": 136,
   "metadata": {},
   "outputs": [],
   "source": [
    "#another way of inserting data into snowflake\n",
    "try:\n",
    "    session.sql(\"BEGIN TRANSACTION\")\n",
    "    spDF = session.write_pandas(\n",
    "        df = df_source,\n",
    "        table_name=\"kna1\",\n",
    "        database=\"snf_mdraz\",\n",
    "        schema=\"bronze\",\n",
    "        quote_identifiers=False,\n",
    "        overwrite=True\n",
    "    )\n",
    "    session.sql(\"COMMIT\")\n",
    "except Exception as e:\n",
    "        session.sql(\"Rollback\")\n",
    "        print(f\"Error encountered: {e}. All inserts have been rolled back.\")  "
   ]
  },
  {
   "cell_type": "code",
   "execution_count": 36,
   "metadata": {},
   "outputs": [],
   "source": [
    "#we are creating a temp table with\n",
    "temp_tbl = \"temp_kna1_cleaned\"\n",
    "df_temp = session.create_dataframe(df_source)\n",
    "df_temp.write.mode(\"overwrite\").saveAsTable(temp_tbl)"
   ]
  },
  {
   "cell_type": "code",
   "execution_count": 37,
   "metadata": {},
   "outputs": [
    {
     "data": {
      "text/plain": [
       "[Row(status='TEMP_KNA1_CLEANED successfully dropped.')]"
      ]
     },
     "execution_count": 37,
     "metadata": {},
     "output_type": "execute_result"
    }
   ],
   "source": [
    "session.sql(\"truncate bronze.kna1;\").collect()\n",
    "bulk_insert_sql = f\"\"\"\n",
    "                    insert into snf_mdraz.bronze.kna1 (INDEX,KUNNR,GENDE,NAME1,NAME2,STRAS,ORT01,PSTLZ,LAND1,LAND2,RSCON,TELF1,REGIO,BIRTH,LATI,LONG,LASTMODIFIED) \n",
    "                    select \n",
    "                        index,\n",
    "                        kunnr,    \n",
    "                        gende,    \n",
    "                        name1,    \n",
    "                        name2,    \n",
    "                        stras,    \n",
    "                        ort01,    \n",
    "                        pstlz,    \n",
    "                        land1,    \n",
    "                        land2,    \n",
    "                        rscon,    \n",
    "                        telf1,    \n",
    "                        regio,    \n",
    "                        birth,    \n",
    "                        lati,    \n",
    "                        long,\n",
    "                        LASTMODIFIED\n",
    "                    from {temp_tbl}\n",
    "                    \"\"\"\n",
    "try:\n",
    "    session.sql(\"BEGIN TRANSACTION\")\n",
    "    session.sql(bulk_insert_sql).collect()\n",
    "    session.sql(\"COMMIT\")\n",
    "except Exception as e:\n",
    "        session.sql(\"Rollback\")\n",
    "        print(f\"Error encountered: {e}. All inserts have been rolled back.\")  \n",
    "session.sql(f\"DROP TABLE IF EXISTS {temp_tbl}\").collect()"
   ]
  },
  {
   "cell_type": "code",
   "execution_count": 97,
   "metadata": {},
   "outputs": [
    {
     "data": {
      "text/plain": [
       "[Row(status='Table CUSTOMER successfully created.')]"
      ]
     },
     "execution_count": 97,
     "metadata": {},
     "output_type": "execute_result"
    }
   ],
   "source": [
    "session.sql(\"\"\"\n",
    "    create or replace TABLE SNF_MDRAZ.SILVER.CUSTOMER (\n",
    "\tID NUMBER(38,0),\n",
    "\tCUSTOMERID VARCHAR(16777216),\n",
    "\tGENDER VARCHAR(16777216),\n",
    "\tFIRSTNAME VARCHAR(16777216),\n",
    "\tLASTNAME VARCHAR(16777216),\n",
    "\tSTREETADDRESS VARCHAR(16777216),\n",
    "\tCITY VARCHAR(16777216),\n",
    "\tPOSTALCODE VARCHAR(16777216),\n",
    "\tCOUNTRYCODE VARCHAR(16777216),\n",
    "\tCOUNTRYNAME VARCHAR(16777216),\n",
    "\tEMAILADDRESS VARCHAR(16777216),\n",
    "\tPHONENUMBER VARCHAR(16777216),\n",
    "\tPHONECOUNTRYCODE NUMBER(38,0),\n",
    "\tDATEOFBIRTH DATE,\n",
    "\tLATITUDE NUMBER(10,6),\n",
    "\tLONGITUDE NUMBER(10,6),\n",
    "\tLASTMODIFIED DATE\n",
    ");\n",
    "\"\"\"\n",
    ").collect()"
   ]
  },
  {
   "cell_type": "code",
   "execution_count": 138,
   "metadata": {},
   "outputs": [],
   "source": [
    "#we are selecting data from staging table kna1\n",
    "source_table = \"\"\"select\n",
    "    index,\n",
    "    kunnr,\n",
    "    gende,\n",
    "    name1,\n",
    "    name2,\n",
    "    stras,\n",
    "    ort01,\n",
    "    pstlz,\n",
    "    land1,\n",
    "    land2,\n",
    "    rscon,\n",
    "    telf1,\n",
    "    regio,\n",
    "    birth,\n",
    "    lati,\n",
    "    long,\n",
    "    LASTMODIFIED from bronze.kna1;\"\"\"\n",
    "df_bronze = session.sql(source_table).to_pandas()"
   ]
  },
  {
   "cell_type": "code",
   "execution_count": null,
   "metadata": {},
   "outputs": [],
   "source": [
    "df_bronze= df_bronze.sort_values(by=['LASTMODIFIED'], ascending=False)\n",
    "df_bronze['rn'] = df_bronze.groupby(['INDEX','KUNNR']).cumcount()+1\n",
    "df_bronze[df_bronze.rn == 1]\n",
    "df_bronze.reset_index(inplace=True)"
   ]
  },
  {
   "cell_type": "code",
   "execution_count": 143,
   "metadata": {},
   "outputs": [],
   "source": [
    "target = session.table(\"SNF_MDRAZ.SILVER.CUSTOMER\")\n",
    "df_sp_bronze = session.create_dataframe(df_bronze)\n",
    "\n",
    "merged = target.merge(\n",
    "    source=df_sp_bronze,\n",
    "    join_expr=(target['ID'] == df_sp_bronze['INDEX']),\n",
    "    clauses= [\n",
    "        when_matched().update(\n",
    "            {\n",
    "            \"CUSTOMERID\": df_sp_bronze['KUNNR'],\n",
    "            \"GENDER\": df_sp_bronze['GENDE'], \n",
    "            \"FIRSTNAME\": df_sp_bronze['NAME1'], \n",
    "            \"LASTNAME\": df_sp_bronze['NAME2'], \n",
    "            \"STREETADDRESS\": df_sp_bronze['STRAS'], \n",
    "            \"CITY\": df_sp_bronze['ORT01'], \n",
    "            \"POSTALCODE\": df_sp_bronze['PSTLZ'], \n",
    "            \"COUNTRYCODE\": df_sp_bronze['LAND1'], \n",
    "            \"COUNTRYNAME\": df_sp_bronze['LAND2'], \n",
    "            \"EMAILADDRESS\": df_sp_bronze['RSCON'], \n",
    "            \"PHONENUMBER\": df_sp_bronze['TELF1'], \n",
    "            \"PHONECOUNTRYCODE\": df_sp_bronze['REGIO'], \n",
    "            \"DATEOFBIRTH\": df_sp_bronze['BIRTH'], \n",
    "            \"LATITUDE\": df_sp_bronze['LATI'], \n",
    "            \"LONGITUDE\": df_sp_bronze['LONG'], \n",
    "            \"LASTMODIFIED\": df_sp_bronze['LASTMODIFIED']\n",
    "            }\n",
    "        ),\n",
    "        when_not_matched().insert(\n",
    "            {\n",
    "            \"ID\": df_sp_bronze['INDEX'], \n",
    "            \"CUSTOMERID\": df_sp_bronze['KUNNR'],\n",
    "            \"GENDER\": df_sp_bronze['GENDE'], \n",
    "            \"FIRSTNAME\": df_sp_bronze['NAME1'], \n",
    "            \"LASTNAME\": df_sp_bronze['NAME2'], \n",
    "            \"STREETADDRESS\": df_sp_bronze['STRAS'], \n",
    "            \"CITY\": df_sp_bronze['ORT01'], \n",
    "            \"POSTALCODE\": df_sp_bronze['PSTLZ'], \n",
    "            \"COUNTRYCODE\": df_sp_bronze['LAND1'], \n",
    "            \"COUNTRYNAME\": df_sp_bronze['LAND2'], \n",
    "            \"EMAILADDRESS\": df_sp_bronze['RSCON'], \n",
    "            \"PHONENUMBER\": df_sp_bronze['TELF1'], \n",
    "            \"PHONECOUNTRYCODE\": df_sp_bronze['REGIO'], \n",
    "            \"DATEOFBIRTH\": df_sp_bronze['BIRTH'], \n",
    "            \"LATITUDE\": df_sp_bronze['LATI'], \n",
    "            \"LONGITUDE\": df_sp_bronze['LONG'], \n",
    "            \"LASTMODIFIED\": df_sp_bronze['LASTMODIFIED']\n",
    "            }\n",
    "        )\n",
    "    ]\n",
    ")"
   ]
  },
  {
   "cell_type": "code",
   "execution_count": 144,
   "metadata": {},
   "outputs": [
    {
     "data": {
      "text/plain": [
       "MergeResult(rows_inserted=429187, rows_updated=0, rows_deleted=0)"
      ]
     },
     "execution_count": 144,
     "metadata": {},
     "output_type": "execute_result"
    }
   ],
   "source": [
    "merged"
   ]
  }
 ],
 "metadata": {
  "kernelspec": {
   "display_name": "Python 3",
   "language": "python",
   "name": "python3"
  },
  "language_info": {
   "codemirror_mode": {
    "name": "ipython",
    "version": 3
   },
   "file_extension": ".py",
   "mimetype": "text/x-python",
   "name": "python",
   "nbconvert_exporter": "python",
   "pygments_lexer": "ipython3",
   "version": "3.8.10"
  },
  "orig_nbformat": 4
 },
 "nbformat": 4,
 "nbformat_minor": 2
}
